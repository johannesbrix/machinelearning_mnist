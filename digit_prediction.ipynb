{
 "cells": [
  {
   "cell_type": "markdown",
   "id": "672f447c",
   "metadata": {},
   "source": [
    "# Import packages"
   ]
  },
  {
   "cell_type": "code",
   "execution_count": 7,
   "id": "145548fd",
   "metadata": {},
   "outputs": [],
   "source": [
    "from sklearn.datasets import fetch_openml\n",
    "import numpy as np\n",
    "import matplotlib.pyplot as plt"
   ]
  },
  {
   "cell_type": "markdown",
   "id": "38843dd3",
   "metadata": {},
   "source": [
    "# Import data"
   ]
  },
  {
   "cell_type": "code",
   "execution_count": null,
   "id": "144f2d32",
   "metadata": {},
   "outputs": [
    {
     "name": "stdout",
     "output_type": "stream",
     "text": [
      "Shape of the image data (X): (70000, 784)\n",
      "Shape of the labels (y): (70000,)\n"
     ]
    }
   ],
   "source": [
    "# Fetch the MNIST dataset (this might take a moment the first time)\n",
    "mnist = fetch_openml('mnist_784', version=1, as_frame=False)\n",
    "\n",
    "data = np.concatenate((mnist.data, mnist.target.reshape(-1, 1)), axis=1)\n",
    "\n",
    "n, m = np.shape(data)\n",
    "\n",
    "np.random.shuffle(data)\n",
    "\n",
    "# The data (pixel values) is in mnist.data\n",
    "X = np.array(data[:, :784], dtype=float)\n",
    "\n",
    "# normalize data\n",
    "X = X / 255\n",
    "\n",
    "# The labels (digits 0-9) are in mnist.target - convert to float\n",
    "y = np.array(data[:, 784], dtype=float)  # Convert the labels to numeric type\n",
    "\n",
    "print(f\"Shape of the image data (X): {X.shape}\")\n",
    "print(f\"Shape of the labels (y): {y.shape}\")"
   ]
  },
  {
   "cell_type": "code",
   "execution_count": 62,
   "id": "c8d25548",
   "metadata": {},
   "outputs": [
    {
     "data": {
      "image/png": "[encoded data removed]",
      "text/plain": [
       "<Figure size 1000x400 with 5 Axes>"
      ]
     },
     "metadata": {},
     "output_type": "display_data"
    }
   ],
   "source": [
    "# To visualize sample images\n",
    "plt.figure(figsize=(10, 4))\n",
    "for i in range(5):\n",
    "    plt.subplot(1, 5, i+1)\n",
    "    # Convert image data to float explicitly to avoid dtype issues\n",
    "    img = X[i].reshape(28, 28)\n",
    "    plt.imshow(img, cmap='gray')\n",
    "    plt.title(f\"Digit: {int(y[i])}\")\n",
    "    plt.axis('off')\n",
    "plt.tight_layout()\n",
    "plt.show()"
   ]
  },
  {
   "cell_type": "code",
   "execution_count": 57,
   "id": "219e14ca",
   "metadata": {},
   "outputs": [
    {
     "data": {
      "text/plain": [
       "array([0.1, 0.3, 0. , 0. , 0.8])"
      ]
     },
     "execution_count": 57,
     "metadata": {},
     "output_type": "execute_result"
    }
   ],
   "source": [
    "def ReLu(x):\n",
    "    \"\"\"\n",
    "    x : np.array representing a digit somewhere in the neural network\n",
    "    \"\"\"\n",
    "    if type(x) is np.ndarray:\n",
    "        x[x < 0] = 0\n",
    "    return x \n",
    "\n",
    "x = np.array([0.1, 0.3, -0.3, -0.3, 0.8])\n",
    "\n",
    "ReLu(x)"
   ]
  },
  {
   "cell_type": "code",
   "execution_count": 58,
   "id": "cd9d0d85",
   "metadata": {},
   "outputs": [
    {
     "data": {
      "text/plain": [
       "array([0.16543062, 0.20205741, 0.14968781, 0.14968781, 0.33313635])"
      ]
     },
     "execution_count": 58,
     "metadata": {},
     "output_type": "execute_result"
    }
   ],
   "source": [
    "def softmax(x):\n",
    "    \"\"\"\n",
    "    x : np.array representing a digit somewhere in the neural network\n",
    "    \n",
    "    Used to compute the final output probabilities for each digit.\n",
    "    \"\"\"\n",
    "    exp_x = np.exp(x)\n",
    "\n",
    "    div = np.sum(exp_x)\n",
    "\n",
    "    return exp_x / div \n",
    "\n",
    "softmax(x)"
   ]
  },
  {
   "cell_type": "code",
   "execution_count": 97,
   "id": "afe18f9e",
   "metadata": {},
   "outputs": [],
   "source": [
    "def forward(x, W1, b1, W2, b2):\n",
    "    \"\"\"\n",
    "    x : np.array of 784 pixels representing one 28x28 digit\n",
    "    W : np.array of weight matrices for each layer in the network\n",
    "    b : np.array of biases for each layer in the network\n",
    "    \"\"\"\n",
    "\n",
    "    # hidden layer\n",
    "    Z1 = W1 @ x + b1\n",
    "    A1 = ReLu(Z1)\n",
    "    \n",
    "    # final layer\n",
    "    Z2 = W2 @ A1 + b2\n",
    "    A2 = softmax(Z2)\n",
    "\n",
    "    return Z1, A1, Z2, A2"
   ]
  },
  {
   "cell_type": "markdown",
   "id": "125d357a",
   "metadata": {},
   "source": [
    "# Prepare Data"
   ]
  },
  {
   "cell_type": "code",
   "execution_count": 92,
   "id": "4c4bb9b2",
   "metadata": {},
   "outputs": [],
   "source": [
    "# data points previously horizontal, now vertical\n",
    "X_train = X[1000:].T\n",
    "y_train = y[1000:]\n",
    "\n",
    "X_test = X[:1000].T\n",
    "y_test = y[:1000]"
   ]
  },
  {
   "cell_type": "code",
   "execution_count": null,
   "id": "5a30c445",
   "metadata": {},
   "outputs": [],
   "source": [
    "def init():  \n",
    "    W1 = np.random.rand(10, 784) - 0.5\n",
    "    b1 = np.random.rand(10, 1) - 0.5\n",
    "    W2 = np.random.rand(10, 10) - 0.5\n",
    "    b2 = np.random.rand(10, 1) - 0.5\n",
    "    return W1, b1, W2, b2"
   ]
  },
  {
   "cell_type": "markdown",
   "id": "e4f727f9",
   "metadata": {},
   "source": [
    "# Test for first data point"
   ]
  },
  {
   "cell_type": "code",
   "execution_count": 98,
   "id": "a719e383",
   "metadata": {},
   "outputs": [
    {
     "name": "stdout",
     "output_type": "stream",
     "text": [
      "(784, 69000)\n",
      "[[0.21998471 0.         2.31112317 2.8781999  2.25811356 0.75017082\n",
      "  0.         0.         0.         2.62783563]\n",
      " [0.4522227  0.         2.54336117 3.11043789 2.49035156 0.98240882\n",
      "  0.         0.         0.         2.86007362]\n",
      " [0.04195847 0.         2.13309693 2.70017366 2.08008732 0.57214458\n",
      "  0.         0.         0.         2.44980939]\n",
      " [0.01698608 0.         2.10812455 2.67520127 2.05511494 0.54717219\n",
      "  0.         0.         0.         2.424837  ]\n",
      " [0.16175549 0.         2.25289396 2.81997068 2.19988434 0.6919416\n",
      "  0.         0.         0.         2.56960641]\n",
      " [0.62483964 0.         2.7159781  3.28305483 2.66296849 1.15502575\n",
      "  0.         0.         0.         3.03269056]\n",
      " [0.         0.         1.8833455  2.45042222 1.83033589 0.32239315\n",
      "  0.         0.         0.         2.20005795]\n",
      " [0.         0.         2.06942955 2.63650628 2.01641994 0.5084772\n",
      "  0.         0.         0.         2.38614201]\n",
      " [0.2649093  0.         2.35604776 2.92312449 2.30303815 0.79509541\n",
      "  0.         0.         0.         2.67276022]\n",
      " [0.58761826 0.         2.67875672 3.24583345 2.62574711 1.11780437\n",
      "  0.         0.         0.         2.99546918]]\n",
      "[[0.21998471 0.         2.31112317 2.8781999  2.25811356 0.75017082\n",
      "  0.         0.         0.         2.62783563]\n",
      " [0.4522227  0.         2.54336117 3.11043789 2.49035156 0.98240882\n",
      "  0.         0.         0.         2.86007362]\n",
      " [0.04195847 0.         2.13309693 2.70017366 2.08008732 0.57214458\n",
      "  0.         0.         0.         2.44980939]\n",
      " [0.01698608 0.         2.10812455 2.67520127 2.05511494 0.54717219\n",
      "  0.         0.         0.         2.424837  ]\n",
      " [0.16175549 0.         2.25289396 2.81997068 2.19988434 0.6919416\n",
      "  0.         0.         0.         2.56960641]\n",
      " [0.62483964 0.         2.7159781  3.28305483 2.66296849 1.15502575\n",
      "  0.         0.         0.         3.03269056]\n",
      " [0.         0.         1.8833455  2.45042222 1.83033589 0.32239315\n",
      "  0.         0.         0.         2.20005795]\n",
      " [0.         0.         2.06942955 2.63650628 2.01641994 0.5084772\n",
      "  0.         0.         0.         2.38614201]\n",
      " [0.2649093  0.         2.35604776 2.92312449 2.30303815 0.79509541\n",
      "  0.         0.         0.         2.67276022]\n",
      " [0.58761826 0.         2.67875672 3.24583345 2.62574711 1.11780437\n",
      "  0.         0.         0.         2.99546918]]\n"
     ]
    }
   ],
   "source": [
    "W1, b1, W2, b2 = init()\n",
    "\n",
    "print(X_train.shape)\n",
    "\n",
    "Z1, A1, Z2, A2 = forward(X_train[:,0], W1, b1, W2, b2)\n",
    "\n",
    "print(Z1)\n",
    "print(A1)"
   ]
  }
 ],
 "metadata": {
  "kernelspec": {
   "display_name": "Python 3",
   "language": "python",
   "name": "python3"
  },
  "language_info": {
   "codemirror_mode": {
    "name": "ipython",
    "version": 3
   },
   "file_extension": ".py",
   "mimetype": "text/x-python",
   "name": "python",
   "nbconvert_exporter": "python",
   "pygments_lexer": "ipython3",
   "version": "3.12.3"
  }
 },
 "nbformat": 4,
 "nbformat_minor": 5
}
