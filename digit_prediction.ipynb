{
 "cells": [
  {
   "cell_type": "markdown",
   "id": "672f447c",
   "metadata": {},
   "source": [
    "# Import packages"
   ]
  },
  {
   "cell_type": "code",
   "execution_count": 1,
   "id": "145548fd",
   "metadata": {},
   "outputs": [],
   "source": [
    "from sklearn.datasets import fetch_openml\n",
    "import numpy as np\n",
    "import matplotlib.pyplot as plt"
   ]
  },
  {
   "cell_type": "markdown",
   "id": "38843dd3",
   "metadata": {},
   "source": [
    "# Import data"
   ]
  },
  {
   "cell_type": "code",
   "execution_count": 2,
   "id": "144f2d32",
   "metadata": {},
   "outputs": [
    {
     "name": "stdout",
     "output_type": "stream",
     "text": [
      "Shape of the image data (X): (70000, 784)\n",
      "Shape of the labels (y): (70000,)\n"
     ]
    }
   ],
   "source": [
    "# Fetch the MNIST dataset (this might take a moment the first time)\n",
    "mnist = fetch_openml('mnist_784', version=1, as_frame=False)\n",
    "\n",
    "data = np.concatenate((mnist.data, mnist.target.reshape(-1, 1)), axis=1)\n",
    "\n",
    "n, m = np.shape(data)\n",
    "\n",
    "np.random.shuffle(data)\n",
    "\n",
    "# The data (pixel values) is in mnist.data\n",
    "X = np.array(data[:, :784], dtype=float)\n",
    "\n",
    "# normalize data\n",
    "X = X / 255\n",
    "\n",
    "# The labels (digits 0-9) are in mnist.target - convert to float\n",
    "y = np.array(data[:, 784], dtype=float)  # Convert the labels to numeric type\n",
    "\n",
    "print(f\"Shape of the image data (X): {X.shape}\")\n",
    "print(f\"Shape of the labels (y): {y.shape}\")"
   ]
  },
  {
   "cell_type": "code",
   "execution_count": 3,
   "id": "c8d25548",
   "metadata": {},
   "outputs": [
    {
     "data": {
      "image/png": "[encoded data removed]",
      "text/plain": [
       "<Figure size 1000x400 with 5 Axes>"
      ]
     },
     "metadata": {},
     "output_type": "display_data"
    }
   ],
   "source": [
    "# To visualize sample images\n",
    "plt.figure(figsize=(10, 4))\n",
    "for i in range(5):\n",
    "    plt.subplot(1, 5, i+1)\n",
    "    # Convert image data to float explicitly to avoid dtype issues\n",
    "    img = X[i].reshape(28, 28)\n",
    "    plt.imshow(img, cmap='gray')\n",
    "    plt.title(f\"Digit: {int(y[i])}\")\n",
    "    plt.axis('off')\n",
    "plt.tight_layout()\n",
    "plt.show()"
   ]
  },
  {
   "cell_type": "code",
   "execution_count": 4,
   "id": "219e14ca",
   "metadata": {},
   "outputs": [
    {
     "data": {
      "text/plain": [
       "array([0.1, 0.3, 0. , 0. , 0.8])"
      ]
     },
     "execution_count": 4,
     "metadata": {},
     "output_type": "execute_result"
    }
   ],
   "source": [
    "def ReLu(x):\n",
    "    \"\"\"\n",
    "    x : np.array representing a digit somewhere in the neural network\n",
    "    \"\"\"\n",
    "    if type(x) is np.ndarray:\n",
    "        x[x < 0] = 0\n",
    "    return x \n",
    "\n",
    "x = np.array([0.1, 0.3, -0.3, -0.3, 0.8])\n",
    "\n",
    "ReLu(x)"
   ]
  },
  {
   "cell_type": "code",
   "execution_count": 5,
   "id": "cd9d0d85",
   "metadata": {},
   "outputs": [
    {
     "data": {
      "text/plain": [
       "array([0.16543062, 0.20205741, 0.14968781, 0.14968781, 0.33313635])"
      ]
     },
     "execution_count": 5,
     "metadata": {},
     "output_type": "execute_result"
    }
   ],
   "source": [
    "def softmax(x):\n",
    "    \"\"\"\n",
    "    x : np.array representing a digit somewhere in the neural network\n",
    "    \n",
    "    Used to compute the final output probabilities for each digit.\n",
    "    \"\"\"\n",
    "    exp_x = np.exp(x)\n",
    "\n",
    "    div = np.sum(exp_x)\n",
    "\n",
    "    return exp_x / div \n",
    "\n",
    "softmax(x)"
   ]
  },
  {
   "cell_type": "code",
   "execution_count": 14,
   "id": "afe18f9e",
   "metadata": {},
   "outputs": [],
   "source": [
    "def forward(x, W1, b1, W2, b2):\n",
    "    \"\"\"\n",
    "    x : np.array of 784 pixels representing one 28x28 digit\n",
    "    W : np.array of weight matrices for each layer in the network\n",
    "    b : np.array of biases for each layer in the network\n",
    "    \"\"\"\n",
    "\n",
    "    # hidden layer\n",
    "    Z1 = W1 @ x + b1\n",
    "    A1 = ReLu(Z1)\n",
    "    \n",
    "    # final layer\n",
    "    Z2 = W2 @ A1 + b2\n",
    "    A2 = softmax(Z2)\n",
    "\n",
    "    return Z1, A1, Z2, A2"
   ]
  },
  {
   "cell_type": "code",
   "execution_count": null,
   "id": "3a347031",
   "metadata": {},
   "outputs": [
    {
     "name": "stdout",
     "output_type": "stream",
     "text": [
      "[8 2 3]\n",
      "[[0. 0. 0.]\n",
      " [0. 0. 0.]\n",
      " [0. 1. 0.]\n",
      " [0. 0. 1.]\n",
      " [0. 0. 0.]\n",
      " [0. 0. 0.]\n",
      " [0. 0. 0.]\n",
      " [0. 0. 0.]\n",
      " [1. 0. 0.]\n",
      " [0. 0. 0.]]\n"
     ]
    }
   ],
   "source": [
    "def binary(y):\n",
    "    \"\"\"\n",
    "    y : np.array or np.float64 in case it is only one element. \n",
    "    We transform the desired output number which is saved in y \n",
    "    in a binary vector. \n",
    "    \"\"\"\n",
    "\n",
    "    # case, if we only test for one element of the y array\n",
    "    if type(y) == np.float64: \n",
    "        y = np.array([y])\n",
    "\n",
    "    num_samples = len(y)\n",
    "    y = np.int32(y)\n",
    "    repr = np.zeros((10, num_samples))\n",
    "    repr[y, np.arange(num_samples)]=1.0\n",
    "    return repr\n",
    "\n",
    "print(binary(np.array([8, 2, 3])))"
   ]
  },
  {
   "cell_type": "code",
   "execution_count": 55,
   "id": "74241858",
   "metadata": {},
   "outputs": [],
   "source": [
    "def C(y_pred, y_actual):\n",
    "    return (y_pred - y_actual) ** 2"
   ]
  },
  {
   "cell_type": "markdown",
   "id": "125d357a",
   "metadata": {},
   "source": [
    "# Prepare Data"
   ]
  },
  {
   "cell_type": "code",
   "execution_count": 7,
   "id": "4c4bb9b2",
   "metadata": {},
   "outputs": [],
   "source": [
    "# data points previously horizontal, now vertical\n",
    "X_train = X[1000:].T\n",
    "y_train = y[1000:]\n",
    "\n",
    "X_test = X[:1000].T\n",
    "y_test = y[:1000]"
   ]
  },
  {
   "cell_type": "code",
   "execution_count": 8,
   "id": "5a30c445",
   "metadata": {},
   "outputs": [],
   "source": [
    "def init():  \n",
    "    W1 = np.random.rand(10, 784) - 0.5\n",
    "    b1 = np.random.rand(10, 1) - 0.5\n",
    "    W2 = np.random.rand(10, 10) - 0.5\n",
    "    b2 = np.random.rand(10, 1) - 0.5\n",
    "    return W1, b1, W2, b2"
   ]
  },
  {
   "cell_type": "markdown",
   "id": "e4f727f9",
   "metadata": {},
   "source": [
    "# Test for first data point"
   ]
  },
  {
   "cell_type": "code",
   "execution_count": 56,
   "id": "a719e383",
   "metadata": {},
   "outputs": [
    {
     "name": "stdout",
     "output_type": "stream",
     "text": [
      "[[0.00115948 0.00284837 0.01435698]\n",
      " [0.00202342 0.00125632 0.00499439]\n",
      " [0.00042186 0.00039455 0.00044899]\n",
      " [0.02131576 0.02282502 0.02362369]\n",
      " [0.37445422 0.04428975 0.10172336]\n",
      " [0.00420395 0.00266291 0.00185956]\n",
      " [0.00800947 0.03145911 0.10647659]\n",
      " [0.00786421 0.00443213 0.03069927]\n",
      " [0.07812469 0.08332726 0.01413223]\n",
      " [0.00655298 0.0026405  0.00141899]]\n",
      "[8. 7. 9.]\n",
      "[[0. 0. 0.]\n",
      " [0. 0. 0.]\n",
      " [0. 0. 0.]\n",
      " [0. 0. 0.]\n",
      " [0. 0. 0.]\n",
      " [0. 0. 0.]\n",
      " [0. 0. 0.]\n",
      " [0. 1. 0.]\n",
      " [1. 0. 0.]\n",
      " [0. 0. 1.]]\n"
     ]
    },
    {
     "data": {
      "image/png": "[encoded data removed]",
      "text/plain": [
       "<Figure size 640x480 with 1 Axes>"
      ]
     },
     "metadata": {},
     "output_type": "display_data"
    }
   ],
   "source": [
    "W1, b1, W2, b2 = init()\n",
    "\n",
    "img = X_train[:,0].reshape(28, 28)\n",
    "plt.imshow(img, cmap='gray')\n",
    "\n",
    "Z1, A1, Z2, A2 = forward(X_train[:,0:3].reshape((784, 3)), W1, b1, W2, b2)\n",
    "\n",
    "# output probabilities after initialization of first data point\n",
    "print(A2)\n",
    "y_actual = binary(y_train[0:3])\n",
    "\n",
    "print(y_actual)"
   ]
  },
  {
   "cell_type": "code",
   "execution_count": 57,
   "id": "3068fbf0",
   "metadata": {},
   "outputs": [
    {
     "data": {
      "text/plain": [
       "array([[1.34438725e-06, 8.11320302e-06, 2.06122760e-04],\n",
       "       [4.09422873e-06, 1.57834117e-06, 2.49438928e-05],\n",
       "       [1.77963592e-07, 1.55669637e-07, 2.01593799e-07],\n",
       "       [4.54361730e-04, 5.20981756e-04, 5.58078668e-04],\n",
       "       [1.40215962e-01, 1.96158235e-03, 1.03476421e-02],\n",
       "       [1.76731683e-05, 7.09110867e-06, 3.45797042e-06],\n",
       "       [6.41515392e-05, 9.89675802e-04, 1.13372636e-02],\n",
       "       [6.18457479e-05, 9.91155389e-01, 9.42445307e-04],\n",
       "       [8.49854079e-01, 6.94343267e-03, 1.99719827e-04],\n",
       "       [4.29415247e-05, 6.97223564e-06, 9.97164039e-01]])"
      ]
     },
     "execution_count": 57,
     "metadata": {},
     "output_type": "execute_result"
    }
   ],
   "source": [
    "C(A2, y_actual)"
   ]
  }
 ],
 "metadata": {
  "kernelspec": {
   "display_name": "Python 3",
   "language": "python",
   "name": "python3"
  },
  "language_info": {
   "codemirror_mode": {
    "name": "ipython",
    "version": 3
   },
   "file_extension": ".py",
   "mimetype": "text/x-python",
   "name": "python",
   "nbconvert_exporter": "python",
   "pygments_lexer": "ipython3",
   "version": "3.12.3"
  }
 },
 "nbformat": 4,
 "nbformat_minor": 5
}
